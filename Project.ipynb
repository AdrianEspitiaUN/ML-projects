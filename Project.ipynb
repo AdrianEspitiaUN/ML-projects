{
  "nbformat": 4,
  "nbformat_minor": 0,
  "metadata": {
    "colab": {
      "provenance": [],
      "include_colab_link": true
    },
    "kernelspec": {
      "display_name": "Julia 1.7",
      "language": "julia",
      "name": "julia-1.7"
    },
    "language_info": {
      "file_extension": ".jl",
      "mimetype": "application/julia",
      "name": "julia",
      "version": "1.7.2"
    },
    "gpuClass": "standard"
  },
  "cells": [
    {
      "cell_type": "markdown",
      "metadata": {
        "id": "view-in-github",
        "colab_type": "text"
      },
      "source": [
        "<a href=\"https://colab.research.google.com/github/AdrianEspitiaUN/ML-projects/blob/main/Project.ipynb\" target=\"_parent\"><img src=\"https://colab.research.google.com/assets/colab-badge.svg\" alt=\"Open In Colab\"/></a>"
      ]
    },
    {
      "cell_type": "markdown",
      "source": [
        "Esta entrega está incompleta, subo el notebook pero espero poder modificarlo antes de la revisión :c"
      ],
      "metadata": {
        "id": "xZORzJ9u4j4Q"
      }
    },
    {
      "cell_type": "code",
      "source": [
        "from google.colab import drive\n",
        "drive.mount(\"/content/drive\")"
      ],
      "metadata": {
        "colab": {
          "base_uri": "https://localhost:8080/"
        },
        "id": "Z-VG127lNb1Q",
        "outputId": "44e87b6e-2b63-456d-b14c-2e2f97952bec"
      },
      "execution_count": null,
      "outputs": [
        {
          "output_type": "stream",
          "name": "stdout",
          "text": [
            "Drive already mounted at /content/drive; to attempt to forcibly remount, call drive.mount(\"/content/drive\", force_remount=True).\n"
          ]
        }
      ]
    },
    {
      "cell_type": "code",
      "source": [
        "%%shell\n",
        "if ! command -v julia 3>&1 > /dev/null\n",
        "then\n",
        "    wget -q 'https://julialang-s3.julialang.org/bin/linux/x64/1.8/julia-1.8.5-linux-x86_64.tar.gz' \\\n",
        "        -O /tmp/julia.tar.gz\n",
        "    file /tmp/julia.tar.gz\n",
        "    #tar -x -f /tmp/julia.tar.gz -C /usr/local --strip-components 1\n",
        "    #rm /tmp/julia.tar.gz\n",
        "fi\n",
        "#julia -e 'using Pkg; pkg\"add IJulia; precompile;\"'\n",
        "#echo 'Done'"
      ],
      "metadata": {
        "id": "h2KdqObSiVmc",
        "colab": {
          "base_uri": "https://localhost:8080/"
        },
        "outputId": "97f27316-7cd3-4109-96a4-aec6a65bb67a"
      },
      "execution_count": null,
      "outputs": [
        {
          "output_type": "stream",
          "name": "stdout",
          "text": [
            "/tmp/julia.tar.gz: empty\n"
          ]
        },
        {
          "output_type": "execute_result",
          "data": {
            "text/plain": []
          },
          "metadata": {},
          "execution_count": 16
        }
      ]
    },
    {
      "cell_type": "markdown",
      "source": [
        "Next cell copies Julia to Drive (it's not necessary to execute it again)"
      ],
      "metadata": {
        "id": "Z0aoEtnmAtTB"
      }
    },
    {
      "cell_type": "code",
      "source": [
        "#cp(\"/root/.julia\", \"/content/drive/MyDrive/Julia/\", force=true"
      ],
      "metadata": {
        "colab": {
          "base_uri": "https://localhost:8080/"
        },
        "id": "udri3Xw1vyy4",
        "outputId": "7ca2ac6d-8dd5-4198-ddf0-b99e2fead5f5"
      },
      "execution_count": null,
      "outputs": [
        {
          "output_type": "execute_result",
          "data": {
            "text/plain": [
              "\"/content/drive/MyDrive/Julia/\""
            ]
          },
          "metadata": {},
          "execution_count": 2
        }
      ]
    },
    {
      "cell_type": "code",
      "source": [
        "using Pkg\n",
        "Pkg.add.([\"DataFrames\",\"CSV\",\"RDatasets\",\"MLUtils\",\"ZipFile\",\"Metrics\",\"HTTP\",\n",
        "\"Optim\",\"MLJ\",\"LIBSVM\",\"MLJLIBSVMInterface\",\"CategoricalArrays\",\"MLJModels\", \"MLJDecisionTreeInterface\", \"EvalMetrics\", \"PyPlot\", \"MLJFlux\"])"
      ],
      "metadata": {
        "id": "kYbWIZyXBP1X",
        "colab": {
          "base_uri": "https://localhost:8080/",
          "height": 133
        },
        "outputId": "7ec4bcd4-747d-41db-d53a-7525bf496dab"
      },
      "execution_count": null,
      "outputs": [
        {
          "output_type": "error",
          "ename": "SyntaxError",
          "evalue": "ignored",
          "traceback": [
            "\u001b[0;36m  File \u001b[0;32m\"<ipython-input-5-91575ec122b6>\"\u001b[0;36m, line \u001b[0;32m1\u001b[0m\n\u001b[0;31m    using Pkg\u001b[0m\n\u001b[0m          ^\u001b[0m\n\u001b[0;31mSyntaxError\u001b[0m\u001b[0;31m:\u001b[0m invalid syntax\n"
          ]
        }
      ]
    },
    {
      "cell_type": "code",
      "source": [
        "Pkg.add(\"MLJFlux\")"
      ],
      "metadata": {
        "colab": {
          "base_uri": "https://localhost:8080/"
        },
        "id": "Cnd4HtiyI-4Z",
        "outputId": "a0495eef-2412-4d78-9928-ffe1a4c4f40d"
      },
      "execution_count": null,
      "outputs": [
        {
          "output_type": "stream",
          "name": "stderr",
          "text": [
            "\u001b[32m\u001b[1m   Resolving\u001b[22m\u001b[39m package versions...\n",
            "\u001b[32m\u001b[1m   Installed\u001b[22m\u001b[39m cuDNN ────────────────── v1.0.2\n",
            "\u001b[32m\u001b[1m   Installed\u001b[22m\u001b[39m BFloat16s ────────────── v0.4.2\n",
            "\u001b[32m\u001b[1m   Installed\u001b[22m\u001b[39m CEnum ────────────────── v0.4.2\n",
            "\u001b[32m\u001b[1m   Installed\u001b[22m\u001b[39m Optimisers ───────────── v0.2.17\n",
            "\u001b[32m\u001b[1m   Installed\u001b[22m\u001b[39m TimerOutputs ─────────── v0.5.22\n",
            "\u001b[32m\u001b[1m   Installed\u001b[22m\u001b[39m NNlibCUDA ────────────── v0.2.7\n",
            "\u001b[32m\u001b[1m   Installed\u001b[22m\u001b[39m MLJFlux ──────────────── v0.2.9\n",
            "\u001b[32m\u001b[1m   Installed\u001b[22m\u001b[39m GPUArrays ────────────── v8.6.5\n",
            "\u001b[32m\u001b[1m   Installed\u001b[22m\u001b[39m CUDA_Runtime_jll ─────── v0.4.0+2\n",
            "\u001b[32m\u001b[1m   Installed\u001b[22m\u001b[39m RealDot ──────────────── v0.1.0\n",
            "\u001b[32m\u001b[1m   Installed\u001b[22m\u001b[39m Functors ─────────────── v0.4.4\n",
            "\u001b[32m\u001b[1m   Installed\u001b[22m\u001b[39m CUDA_Driver_jll ──────── v0.4.0+2\n",
            "\u001b[32m\u001b[1m   Installed\u001b[22m\u001b[39m IRTools ──────────────── v0.4.9\n",
            "\u001b[32m\u001b[1m   Installed\u001b[22m\u001b[39m ProgressLogging ──────── v0.1.4\n",
            "\u001b[32m\u001b[1m   Installed\u001b[22m\u001b[39m RandomNumbers ────────── v1.5.3\n",
            "\u001b[32m\u001b[1m   Installed\u001b[22m\u001b[39m CUDA_Runtime_Discovery ─ v0.1.2\n",
            "\u001b[32m\u001b[1m   Installed\u001b[22m\u001b[39m OneHotArrays ─────────── v0.2.3\n",
            "\u001b[32m\u001b[1m   Installed\u001b[22m\u001b[39m Metalhead ────────────── v0.7.4\n",
            "\u001b[32m\u001b[1m   Installed\u001b[22m\u001b[39m LLVM ─────────────────── v4.17.1\n",
            "\u001b[32m\u001b[1m   Installed\u001b[22m\u001b[39m UnsafeAtomicsLLVM ────── v0.1.1\n",
            "\u001b[32m\u001b[1m   Installed\u001b[22m\u001b[39m Random123 ────────────── v1.6.0\n",
            "\u001b[32m\u001b[1m   Installed\u001b[22m\u001b[39m Zygote ───────────────── v0.6.59\n",
            "\u001b[32m\u001b[1m   Installed\u001b[22m\u001b[39m LLVMExtra_jll ────────── v0.0.18+0\n",
            "\u001b[32m\u001b[1m   Installed\u001b[22m\u001b[39m AbstractFFTs ─────────── v1.3.1\n",
            "\u001b[32m\u001b[1m   Installed\u001b[22m\u001b[39m UnsafeAtomics ────────── v0.2.1\n",
            "\u001b[32m\u001b[1m   Installed\u001b[22m\u001b[39m GPUArraysCore ────────── v0.1.4\n",
            "\u001b[32m\u001b[1m   Installed\u001b[22m\u001b[39m ChainRules ───────────── v1.48.0\n",
            "\u001b[32m\u001b[1m   Installed\u001b[22m\u001b[39m KernelAbstractions ───── v0.9.1\n",
            "\u001b[32m\u001b[1m   Installed\u001b[22m\u001b[39m Atomix ───────────────── v0.1.0\n",
            "\u001b[32m\u001b[1m   Installed\u001b[22m\u001b[39m StructArrays ─────────── v0.6.15\n",
            "\u001b[32m\u001b[1m   Installed\u001b[22m\u001b[39m BSON ─────────────────── v0.3.7\n",
            "\u001b[32m\u001b[1m   Installed\u001b[22m\u001b[39m GPUCompiler ──────────── v0.18.0\n",
            "\u001b[32m\u001b[1m   Installed\u001b[22m\u001b[39m CUDNN_jll ────────────── v8.8.1+0\n",
            "\u001b[32m\u001b[1m   Installed\u001b[22m\u001b[39m Flux ─────────────────── v0.13.14\n",
            "\u001b[32m\u001b[1m   Installed\u001b[22m\u001b[39m CUDA ─────────────────── v4.1.1\n",
            "\u001b[32m\u001b[1m    Updating\u001b[22m\u001b[39m `/content/drive/MyDrive/Julia/environments/v1.7/Project.toml`\n",
            " \u001b[90m [094fc8d1] \u001b[39m\u001b[92m+ MLJFlux v0.2.9\u001b[39m\n",
            "\u001b[32m\u001b[1m    Updating\u001b[22m\u001b[39m `/content/drive/MyDrive/Julia/environments/v1.7/Manifest.toml`\n",
            " \u001b[90m [621f4979] \u001b[39m\u001b[92m+ AbstractFFTs v1.3.1\u001b[39m\n",
            " \u001b[90m [a9b6321e] \u001b[39m\u001b[92m+ Atomix v0.1.0\u001b[39m\n",
            " \u001b[90m [ab4f0b2a] \u001b[39m\u001b[92m+ BFloat16s v0.4.2\u001b[39m\n",
            " \u001b[90m [fbb218c0] \u001b[39m\u001b[92m+ BSON v0.3.7\u001b[39m\n",
            " \u001b[90m [fa961155] \u001b[39m\u001b[92m+ CEnum v0.4.2\u001b[39m\n",
            " \u001b[90m [052768ef] \u001b[39m\u001b[92m+ CUDA v4.1.1\u001b[39m\n",
            " \u001b[90m [1af6417a] \u001b[39m\u001b[92m+ CUDA_Runtime_Discovery v0.1.2\u001b[39m\n",
            " \u001b[90m [082447d4] \u001b[39m\u001b[92m+ ChainRules v1.48.0\u001b[39m\n",
            " \u001b[90m [587475ba] \u001b[39m\u001b[92m+ Flux v0.13.14\u001b[39m\n",
            " \u001b[90m [d9f16b24] \u001b[39m\u001b[92m+ Functors v0.4.4\u001b[39m\n",
            " \u001b[90m [0c68f7d7] \u001b[39m\u001b[92m+ GPUArrays v8.6.5\u001b[39m\n",
            " \u001b[90m [46192b85] \u001b[39m\u001b[92m+ GPUArraysCore v0.1.4\u001b[39m\n",
            " \u001b[90m [61eb1bfa] \u001b[39m\u001b[92m+ GPUCompiler v0.18.0\u001b[39m\n",
            " \u001b[90m [7869d1d1] \u001b[39m\u001b[92m+ IRTools v0.4.9\u001b[39m\n",
            " \u001b[90m [63c18a36] \u001b[39m\u001b[92m+ KernelAbstractions v0.9.1\u001b[39m\n",
            " \u001b[90m [929cbde3] \u001b[39m\u001b[92m+ LLVM v4.17.1\u001b[39m\n",
            " \u001b[90m [094fc8d1] \u001b[39m\u001b[92m+ MLJFlux v0.2.9\u001b[39m\n",
            " \u001b[90m [dbeba491] \u001b[39m\u001b[92m+ Metalhead v0.7.4\u001b[39m\n",
            " \u001b[90m [a00861dc] \u001b[39m\u001b[92m+ NNlibCUDA v0.2.7\u001b[39m\n",
            " \u001b[90m [0b1bfda6] \u001b[39m\u001b[92m+ OneHotArrays v0.2.3\u001b[39m\n",
            " \u001b[90m [3bd65402] \u001b[39m\u001b[92m+ Optimisers v0.2.17\u001b[39m\n",
            " \u001b[90m [33c8b6b6] \u001b[39m\u001b[92m+ ProgressLogging v0.1.4\u001b[39m\n",
            " \u001b[90m [74087812] \u001b[39m\u001b[92m+ Random123 v1.6.0\u001b[39m\n",
            " \u001b[90m [e6cf234a] \u001b[39m\u001b[92m+ RandomNumbers v1.5.3\u001b[39m\n",
            " \u001b[90m [c1ae055f] \u001b[39m\u001b[92m+ RealDot v0.1.0\u001b[39m\n",
            " \u001b[90m [09ab397b] \u001b[39m\u001b[92m+ StructArrays v0.6.15\u001b[39m\n",
            " \u001b[90m [a759f4b9] \u001b[39m\u001b[92m+ TimerOutputs v0.5.22\u001b[39m\n",
            " \u001b[90m [013be700] \u001b[39m\u001b[92m+ UnsafeAtomics v0.2.1\u001b[39m\n",
            " \u001b[90m [d80eeb9a] \u001b[39m\u001b[92m+ UnsafeAtomicsLLVM v0.1.1\u001b[39m\n",
            " \u001b[90m [e88e6eb3] \u001b[39m\u001b[92m+ Zygote v0.6.59\u001b[39m\n",
            " \u001b[90m [02a925ec] \u001b[39m\u001b[92m+ cuDNN v1.0.2\u001b[39m\n",
            " \u001b[90m [4ee394cb] \u001b[39m\u001b[92m+ CUDA_Driver_jll v0.4.0+2\u001b[39m\n",
            " Downloading artifact: CUDA_Driver\n",
            "\u001b[31m→\u001b[39m\u001b[90m [76a88914] \u001b[39m\u001b[92m+ CUDA_Runtime_jll v0.4.0+2\u001b[39m\n",
            " Downloading artifact: CUDA_Runtime\n",
            "\u001b[31m→\u001b[39m\u001b[90m [62b44479] \u001b[39m\u001b[92m+ CUDNN_jll v8.8.1+0\u001b[39m\n",
            " \u001b[90m [dad2f222] \u001b[39m\u001b[92m+ LLVMExtra_jll v0.0.18+0\u001b[39m\n",
            "\u001b[32m\u001b[1m        Info\u001b[22m\u001b[39m packages marked with \u001b[31m→\u001b[39m not downloaded, use `instantiate` to download\n",
            "\u001b[32m\u001b[1mPrecompiling\u001b[22m\u001b[39m project...\n",
            "\u001b[32m  ✓ \u001b[39m\u001b[90mCEnum\u001b[39m\n",
            "\u001b[32m  ✓ \u001b[39m\u001b[90mRealDot\u001b[39m\n",
            "\u001b[32m  ✓ \u001b[39m\u001b[90mUnsafeAtomics\u001b[39m\n",
            "\u001b[32m  ✓ \u001b[39m\u001b[90mBFloat16s\u001b[39m\n",
            "\u001b[32m  ✓ \u001b[39m\u001b[90mCUDA_Runtime_Discovery\u001b[39m\n",
            "\u001b[32m  ✓ \u001b[39m\u001b[90mBSON\u001b[39m\n",
            "\u001b[32m  ✓ \u001b[39m\u001b[90mProgressLogging\u001b[39m\n",
            "\u001b[32m  ✓ \u001b[39m\u001b[90mTimerOutputs\u001b[39m\n",
            "\u001b[32m  ✓ \u001b[39m\u001b[90mFunctors\u001b[39m\n",
            "\u001b[32m  ✓ \u001b[39m\u001b[90mIRTools\u001b[39m\n",
            "\u001b[32m  ✓ \u001b[39m\u001b[90mAbstractFFTs\u001b[39m\n",
            "\u001b[32m  ✓ \u001b[39m\u001b[90mGPUArraysCore\u001b[39m\n",
            "\u001b[32m  ✓ \u001b[39m\u001b[90mRandomNumbers\u001b[39m\n",
            "\u001b[32m  ✓ \u001b[39m\u001b[90mAtomix\u001b[39m\n",
            "\u001b[32m  ✓ \u001b[39m\u001b[90mCUDNN_jll\u001b[39m\n",
            "\u001b[32m  ✓ \u001b[39m\u001b[90mLLVMExtra_jll\u001b[39m\n",
            "\u001b[32m  ✓ \u001b[39m\u001b[90mOptimisers\u001b[39m\n",
            "\u001b[32m  ✓ \u001b[39m\u001b[90mStructArrays\u001b[39m\n",
            "\u001b[32m  ✓ \u001b[39m\u001b[90mOneHotArrays\u001b[39m\n",
            "\u001b[32m  ✓ \u001b[39m\u001b[90mRandom123\u001b[39m\n",
            "\u001b[32m  ✓ \u001b[39m\u001b[90mLLVM\u001b[39m\n",
            "\u001b[32m  ✓ \u001b[39m\u001b[90mChainRules\u001b[39m\n",
            "\u001b[32m  ✓ \u001b[39m\u001b[90mGPUArrays\u001b[39m\n",
            "\u001b[32m  ✓ \u001b[39m\u001b[90mUnsafeAtomicsLLVM\u001b[39m\n",
            "\u001b[32m  ✓ \u001b[39m\u001b[90mGPUCompiler\u001b[39m\n",
            "\u001b[32m  ✓ \u001b[39m\u001b[90mKernelAbstractions\u001b[39m\n",
            "\u001b[32m  ✓ \u001b[39m\u001b[90mZygote\u001b[39m\n",
            "\u001b[32m  ✓ \u001b[39m\u001b[90mCUDA\u001b[39m\n",
            "\u001b[32m  ✓ \u001b[39m\u001b[90mcuDNN\u001b[39m\n",
            "\u001b[32m  ✓ \u001b[39m\u001b[90mNNlibCUDA\u001b[39m\n",
            "\u001b[32m  ✓ \u001b[39m\u001b[90mFlux\u001b[39m\n",
            "\u001b[32m  ✓ \u001b[39m\u001b[90mMetalhead\u001b[39m\n",
            "\u001b[32m  ✓ \u001b[39mMLJFlux\n",
            "  33 dependencies successfully precompiled in 233 seconds (258 already precompiled)\n"
          ]
        }
      ]
    },
    {
      "cell_type": "code",
      "source": [
        "using EvalMetrics"
      ],
      "metadata": {
        "colab": {
          "base_uri": "https://localhost:8080/"
        },
        "id": "psKv744cI27h",
        "outputId": "b7dd39e2-3b1c-4407-b814-5ced43b91740"
      },
      "execution_count": null,
      "outputs": [
        {
          "output_type": "stream",
          "name": "stderr",
          "text": [
            "\u001b[36m\u001b[1m[ \u001b[22m\u001b[39m\u001b[36m\u001b[1mInfo: \u001b[22m\u001b[39mPrecompiling EvalMetrics [251d5f9e-10c1-4699-ba24-e0ad168fa3e4]\n",
            "\u001b[33m\u001b[1m┌ \u001b[22m\u001b[39m\u001b[33m\u001b[1mWarning: \u001b[22m\u001b[39mModule DocStringExtensions with build ID 923891771892 is missing from the cache.\n",
            "\u001b[33m\u001b[1m│ \u001b[22m\u001b[39mThis may mean DocStringExtensions [ffbed154-4ef7-542d-bbb7-c09d3a79fcae] does not support precompilation but is imported by a module that does.\n",
            "\u001b[33m\u001b[1m└ \u001b[22m\u001b[39m\u001b[90m@ Base loading.jl:1107\u001b[39m\n",
            "\u001b[36m\u001b[1m[ \u001b[22m\u001b[39m\u001b[36m\u001b[1mInfo: \u001b[22m\u001b[39mSkipping precompilation since __precompile__(false). Importing EvalMetrics [251d5f9e-10c1-4699-ba24-e0ad168fa3e4].\n"
          ]
        }
      ]
    },
    {
      "cell_type": "code",
      "source": [
        "using Random\n",
        "using LinearAlgebra\n",
        "using RDatasets\n",
        "using DataFrames\n",
        "using CSV\n",
        "using MLUtils\n",
        "using ZipFile\n",
        "using Metrics\n",
        "using HTTP\n",
        "using Optim\n",
        "using MLJ\n",
        "using CategoricalArrays\n",
        "using EvalMetrics"
      ],
      "metadata": {
        "id": "j4t4bTb5FD51"
      },
      "execution_count": null,
      "outputs": []
    },
    {
      "cell_type": "markdown",
      "source": [
        "# Datasets\n",
        "\n",
        "This is a classification problem, more precisely, a binary classification problem. On the first dataset we have two classes: 1 or 0, depending whether the banknote is authentic or not. The features in this case are some values obtained from the Wavelet transform image from each bancknote picture. For example, variance and skewness of the Wavelet image.\n",
        "\n",
        "The second dataset has as features some measurements taken from a room (humidity, temperature, etc.) and a label which indicates whether the room is occupied or not.\n",
        "\n",
        "In the banknotes dataset problem, the classifyier is probably required to target fake banknotes, so any model should put emphasis in reducing the number of false negatives in the fake banknotes class. Thus, the performance measures to assess models trained on this dataset are precision and recall of the fake banknotes class.\n",
        "\n",
        "On the other hand, there is not an apparent interest in any of the two classes for the occupancy problem. Since the researchers that collected the data chose to take as performance measure the precision of the \"occupied\" class, we will do so as well."
      ],
      "metadata": {
        "id": "cX1MUE4zvQ3l"
      }
    },
    {
      "cell_type": "code",
      "source": [
        "#Dataset1\n",
        "DS1 = CSV.read(download(\"https://archive.ics.uci.edu/ml/machine-learning-databases/00267/data_banknote_authentication.txt\"), DataFrame, header=false)\n",
        "replace!(DS1[!,5], 0 => -1); #Change 0 to -1 for the negative class, since we are using SVM"
      ],
      "metadata": {
        "id": "rOySh7mkR5jV"
      },
      "execution_count": null,
      "outputs": []
    },
    {
      "cell_type": "code",
      "source": [
        "#Dataset2\n",
        "#This dataset is already partitioned into training, test and validation \n",
        "datafile=\"https://archive.ics.uci.edu/ml/machine-learning-databases/00357/occupancy_data.zip\"\n",
        "dat = HTTP.get(datafile)\n",
        "r = ZipFile.Reader(IOBuffer(dat.body))\n",
        "f1  = r.files[1] \n",
        "f2  = r.files[2]\n",
        "f3  = r.files[3]\n",
        "DS2test1 = CSV.read(f1, DataFrame, header = [\"num\", \"date\", \"Temperature\", \"Humidity\", \"Light\", \"CO2\", \"HumidityRatio\", \"Occupancy\"], skipto = 2) \n",
        "DS2test2 = CSV.read(f2, DataFrame, header = [\"num\", \"date\", \"Temperature\", \"Humidity\", \"Light\", \"CO2\", \"HumidityRatio\", \"Occupancy\"], skipto = 2)\n",
        "DS2train = CSV.read(f3, DataFrame, header = [\"num\", \"date\", \"Temperature\", \"Humidity\", \"Light\", \"CO2\", \"HumidityRatio\", \"Occupancy\"], skipto = 2)\n",
        "replace!(DS2train[!,\"Occupancy\"], 0 => -1)\n",
        "replace!(DS2test1[!,\"Occupancy\"], 0 => -1)\n",
        "replace!(DS2test2[!,\"Occupancy\"], 0 => -1);\n"
      ],
      "metadata": {
        "id": "VoW_80BWhqX3"
      },
      "execution_count": null,
      "outputs": []
    },
    {
      "cell_type": "code",
      "source": [
        "DS2trainX, DS2trainY = DS2train[:,3:end-1] , CategoricalVector(DS2train[!, \"Occupancy\"], ordered = true, levels = [1,-1])\n",
        "DS2test1X, DS2test1Y = DS2test1[:,3:end-1] , CategoricalVector(DS2test1[!, \"Occupancy\"], ordered = true, levels = [1,-1])\n",
        "DS2test2X, DS2test2Y = DS2test2[:,3:end-1] , CategoricalVector(DS2test2[!, \"Occupancy\"], ordered = true, levels = [1,-1])"
      ],
      "metadata": {
        "colab": {
          "base_uri": "https://localhost:8080/"
        },
        "id": "AS-bxXFlY8GL",
        "outputId": "94e2d06d-4c15-401d-f138-687933a41e37"
      },
      "execution_count": null,
      "outputs": [
        {
          "output_type": "execute_result",
          "data": {
            "text/plain": [
              "(\u001b[1m9752×5 DataFrame\u001b[0m\n",
              "\u001b[1m  Row \u001b[0m│\u001b[1m Temperature \u001b[0m\u001b[1m Humidity \u001b[0m\u001b[1m Light   \u001b[0m\u001b[1m CO2     \u001b[0m\u001b[1m HumidityRatio \u001b[0m\n",
              "      │\u001b[90m Float64     \u001b[0m\u001b[90m Float64  \u001b[0m\u001b[90m Float64 \u001b[0m\u001b[90m Float64 \u001b[0m\u001b[90m Float64       \u001b[0m\n",
              "──────┼────────────────────────────────────────────────────────\n",
              "    1 │     21.76     31.1333  437.333  1029.67     0.00502101\n",
              "    2 │     21.79     31.0     437.333  1000.0      0.00500858\n",
              "    3 │     21.7675   31.1225  434.0    1003.75     0.00502157\n",
              "    4 │     21.7675   31.1225  439.0    1009.5      0.00502157\n",
              "    5 │     21.79     31.1333  437.333  1005.67     0.0050303\n",
              "    6 │     21.76     31.26    437.333  1014.33     0.0050416\n",
              "    7 │     21.79     31.1975  434.0    1018.5      0.00504075\n",
              "    8 │     21.79     31.3933  437.333  1018.67     0.00507265\n",
              "    9 │     21.79     31.3175  434.0    1022.0      0.0050603\n",
              "   10 │     21.79     31.4633  437.333  1027.33     0.00508405\n",
              "   11 │     21.79     31.525   437.75   1047.75     0.0050941\n",
              "  ⋮   │      ⋮          ⋮         ⋮        ⋮           ⋮\n",
              " 9743 │     20.79     26.745    50.75   1463.75     0.00405789\n",
              " 9744 │     20.79     27.1225  296.0    1467.0      0.00411555\n",
              " 9745 │     20.79     27.03    419.0    1488.0      0.00410142\n",
              " 9746 │     20.79     27.2967  429.0    1486.0      0.00414215\n",
              " 9747 │     20.815    27.4175  430.75   1511.75     0.00416706\n",
              " 9748 │     20.815    27.7175  429.75   1505.25     0.00421297\n",
              " 9749 │     20.865    27.745   423.5    1514.5      0.00423026\n",
              " 9750 │     20.89     27.745   423.5    1521.5      0.00423682\n",
              " 9751 │     20.89     28.0225  418.75   1632.0      0.00427949\n",
              " 9752 │     21.0      28.1     409.0    1864.0      0.00432073\n",
              "\u001b[36m                                              9731 rows omitted\u001b[0m, CategoricalValue{Int64, UInt32}[1, 1, 1, 1, 1, 1, 1, 1, 1, 1  …  -1, 1, 1, 1, 1, 1, 1, 1, 1, 1])"
            ]
          },
          "metadata": {},
          "execution_count": 31
        }
      ]
    },
    {
      "cell_type": "markdown",
      "source": [
        "#SVM"
      ],
      "metadata": {
        "id": "D0Pw--J5CsBC"
      }
    },
    {
      "cell_type": "code",
      "source": [
        "function SVMtrain(data)\n",
        "  tol = 0.08\n",
        "  xtrain = Matrix(data[1])\n",
        "  ytrain = data[2]\n",
        "  size_data, dim_data = size(xtrain)\n",
        "  transforms = ones(dim_data, 2^dim_data)\n",
        "  opt_dict = Dict()\n",
        "  opt_w = ones(dim_data)\n",
        "  opt_b = 0\n",
        "\n",
        "  for i = 1:dim_data\n",
        "    tr = replace!(digits(i, base=2, pad=2^dim_data), 0=>-1)\n",
        "    transforms[i,:] = tr\n",
        "  end\n",
        "\n",
        "  max_feature_value = maximum(xtrain)\n",
        "\n",
        "  step_sizes =[max_feature_value * 0.1,\n",
        "                      max_feature_value * 0.01,\n",
        "                      max_feature_value * 0.001]\n",
        "  \n",
        "  b_range = 5*max_feature_value\n",
        "  b_multiple = 5\n",
        "\n",
        "\n",
        "  latest_optimum = max_feature_value*10\n",
        "\n",
        "  for step in step_sizes\n",
        "    w = latest_optimum*ones(dim_data)\n",
        "    optimized = false \n",
        "    while !optimized\n",
        "      b_step = step*b_multiple\n",
        "      for b =-1*b_range:b_step:b_range\n",
        "        for transformation in transforms\n",
        "          w_t = w.*transformation\n",
        "          found_option = true\n",
        "          misses = 0\n",
        "          for i = 1:size_data\n",
        "            xi = xtrain[i,:]\n",
        "            yi = ytrain[i]\n",
        "            if !(yi*(w_t'*xi-b) >= 1)\n",
        "              misses += 1\n",
        "            end\n",
        "          end\n",
        "          err_percent = misses/size_data\n",
        "\n",
        "          if err_percent > tol\n",
        "            found_option = false\n",
        "          end\n",
        "\n",
        "          if found_option\n",
        "          \n",
        "            opt_dict[norm(w_t)] = [w_t, b]\n",
        "          end\n",
        "        end\n",
        "      end\n",
        "      if w[1] < 0\n",
        "        optimized = true\n",
        "        println(\"optimized a step\")\n",
        "      else\n",
        "      w = w.-step\n",
        "      end\n",
        "      opt_choice = opt_dict[minimum(keys(opt_dict))]\n",
        "      opt_w, opt_b= opt_choice\n",
        "      latest_optimum = opt_choice[1][1] + step*2\n",
        "    end\n",
        "  end\n",
        "  return opt_w, opt_b\n",
        "end\n",
        "\n",
        "function SVMpredict(x, svm)\n",
        "  y = x*svm[1] .+ svm[2]\n",
        "  return sign.(y)\n",
        "end"
      ],
      "metadata": {
        "colab": {
          "base_uri": "https://localhost:8080/"
        },
        "id": "i_Awfr41mJp1",
        "outputId": "03f4f0cd-d698-466c-ae7f-cad803c559d8"
      },
      "execution_count": null,
      "outputs": [
        {
          "output_type": "execute_result",
          "data": {
            "text/plain": [
              "SVMpredict (generic function with 1 method)"
            ]
          },
          "metadata": {},
          "execution_count": 10
        }
      ]
    },
    {
      "cell_type": "markdown",
      "source": [
        "Next, the dataset is splitted into train and test datasets"
      ],
      "metadata": {
        "id": "1vuBaOLBPAfC"
      }
    },
    {
      "cell_type": "code",
      "source": [
        "Random.seed!(1234)\n",
        "\n",
        "\n",
        "X1, Y1 = DS1[:,1:4], DS1[:,5]\n",
        "Xs, Ys = shuffleobs((X1,Y1))\n",
        "\n",
        "train, val, test = splitobs((Xs,Ys), at = (0.7, 0.2))"
      ],
      "metadata": {
        "colab": {
          "base_uri": "https://localhost:8080/"
        },
        "id": "6K22Wt2cr4U7",
        "outputId": "e4d6f2b3-9840-4ead-a823-1b6f01af3746"
      },
      "execution_count": null,
      "outputs": [
        {
          "output_type": "execute_result",
          "data": {
            "text/plain": [
              "((ObsView(::DataFrame, ::Vector{Int64})\n",
              " 960 observations, [1, -1, 1, -1, 1, -1, 1, 1, -1, -1  …  -1, -1, -1, 1, -1, 1, -1, -1, -1, -1]), (ObsView(::DataFrame, ::Vector{Int64})\n",
              " 274 observations, [-1, -1, -1, 1, 1, 1, -1, -1, 1, -1  …  -1, -1, -1, 1, -1, -1, -1, -1, 1, -1]), (ObsView(::DataFrame, ::Vector{Int64})\n",
              " 138 observations, [1, 1, 1, -1, 1, -1, -1, 1, 1, -1  …  -1, 1, -1, -1, 1, 1, 1, -1, 1, -1]))"
            ]
          },
          "metadata": {},
          "execution_count": 11
        }
      ]
    },
    {
      "cell_type": "code",
      "source": [
        "svm_instatance = SVMtrain(getobs(train)) "
      ],
      "metadata": {
        "id": "vV2OAM45amoY",
        "colab": {
          "base_uri": "https://localhost:8080/"
        },
        "outputId": "51438109-c40e-4a03-dc0c-76dee07b2d84"
      },
      "execution_count": null,
      "outputs": [
        {
          "output_type": "stream",
          "name": "stdout",
          "text": [
            "optimized a step\n",
            "optimized a step\n",
            "optimized a step\n"
          ]
        },
        {
          "output_type": "execute_result",
          "data": {
            "text/plain": [
              "([-3.1818960000002208, -3.1818960000002208, -3.1818960000002208, -3.1818960000002208], -1.679334)"
            ]
          },
          "metadata": {},
          "execution_count": 12
        }
      ]
    },
    {
      "cell_type": "code",
      "source": [
        "set_encoding(OneMinusOne(:positive,:negative))\n",
        "ypred = SVMpredict(Matrix(getobs(test)[1]), svm_instatance)\n",
        "binary_eval_report(getobs(test)[2], ypred)"
      ],
      "metadata": {
        "colab": {
          "base_uri": "https://localhost:8080/",
          "height": 154
        },
        "id": "7xpAll6cEQEo",
        "outputId": "bf898a16-53ff-45a3-9955-260066885149"
      },
      "execution_count": null,
      "outputs": [
        {
          "output_type": "error",
          "ename": "LoadError",
          "evalue": "ignored",
          "traceback": [
            "MethodError: no method matching OneMinusOne(::Symbol, ::Symbol)",
            "",
            "Stacktrace:",
            " [1] top-level scope",
            "   @ In[26]:1"
          ]
        }
      ]
    },
    {
      "cell_type": "markdown",
      "source": [
        "#SVM soft margin\n"
      ],
      "metadata": {
        "id": "oja_OCHPVPvS"
      }
    },
    {
      "cell_type": "markdown",
      "source": [
        "A continuación implementamos una SVM con margen suave para lidiar con el posible ruido."
      ],
      "metadata": {
        "id": "jPoBIbJnuBHx"
      }
    },
    {
      "cell_type": "code",
      "source": [
        "function SMSVMcost(data, wb)\n",
        "  C = 1\n",
        "  x = Matrix(data[1])\n",
        "  y = data[2]\n",
        "  w = wb[1:end-1]\n",
        "  b = wb[end]\n",
        "  sm = 0\n",
        "  errors = 0\n",
        "  for i = 1:size(y)[1]\n",
        "    if maximum([0, 1-y[i]*(w'*x[i,:]-b)]) != 0\n",
        "      errors +=1\n",
        "    end\n",
        "    sm += maximum([0, 1-y[i]*(w'*x[i,:]-b)])\n",
        "  end\n",
        "  return norm(w)^2 + 100*sm/(size(y)[1])\n",
        "end\n",
        "\n",
        "function trainSMSVM(data)\n",
        "  xtrain = Matrix(data[1])\n",
        "  size_data, dim_data = size(xtrain)\n",
        "  f(wb) = SMSVMcost(data, wb)\n",
        "  wb_0 = ones(dim_data+1)\n",
        "  wb_0[end] = 100\n",
        "  opt = optimize(f, wb_0)\n",
        "  opt_wb = Optim.minimizer(opt)\n",
        "  return opt_wb[1:end-1], opt_wb[end], opt\n",
        "end\n"
      ],
      "metadata": {
        "colab": {
          "base_uri": "https://localhost:8080/"
        },
        "id": "13UIPBoRqPU4",
        "outputId": "adb82deb-0b77-40b8-b954-5026348c3653"
      },
      "execution_count": null,
      "outputs": [
        {
          "output_type": "execute_result",
          "data": {
            "text/plain": [
              "trainSMSVM (generic function with 1 method)"
            ]
          },
          "metadata": {},
          "execution_count": 32
        }
      ]
    },
    {
      "cell_type": "code",
      "source": [
        "svm_instance = trainSMSVM(getobs(train)) "
      ],
      "metadata": {
        "colab": {
          "base_uri": "https://localhost:8080/"
        },
        "id": "6d8Ouc24a2CR",
        "outputId": "ad4740ba-6194-4d4c-ec2d-a6b2c7653276"
      },
      "execution_count": null,
      "outputs": [
        {
          "output_type": "execute_result",
          "data": {
            "text/plain": [
              "([-0.8620007692408539, -0.5526138316818414, -0.6291343311565154, -0.015980396433498602], -1.2733906938250752,  * Status: success\n",
              "\n",
              " * Candidate solution\n",
              "    Final objective value:     5.228951e+00\n",
              "\n",
              " * Found with\n",
              "    Algorithm:     Nelder-Mead\n",
              "\n",
              " * Convergence measures\n",
              "    √(Σ(yᵢ-ȳ)²)/n ≤ 1.0e-08\n",
              "\n",
              " * Work counters\n",
              "    Seconds run:   3  (vs limit Inf)\n",
              "    Iterations:    644\n",
              "    f(x) calls:    1082\n",
              ")"
            ]
          },
          "metadata": {},
          "execution_count": 33
        }
      ]
    },
    {
      "cell_type": "code",
      "source": [
        "#ypred = SVMpredict(Matrix(getobs(train)[1]), svm_instance)\n",
        "wb = vcat(svm_instance[1], [svm_instance[2]])\n",
        "SMSVMcost(getobs(train), wb)"
      ],
      "metadata": {
        "colab": {
          "base_uri": "https://localhost:8080/"
        },
        "id": "mxy0zV0Ib8fd",
        "outputId": "ee423a5b-b701-4c00-8609-b7929fbea761"
      },
      "execution_count": null,
      "outputs": [
        {
          "output_type": "execute_result",
          "data": {
            "text/plain": [
              "5.228950952285903"
            ]
          },
          "metadata": {},
          "execution_count": 34
        }
      ]
    },
    {
      "cell_type": "code",
      "source": [
        "getobs(test)[2]"
      ],
      "metadata": {
        "colab": {
          "base_uri": "https://localhost:8080/"
        },
        "id": "WXqBZRMVeXgb",
        "outputId": "da6cdf5a-7fff-42f5-bad8-22b0adcf8cd9"
      },
      "execution_count": null,
      "outputs": [
        {
          "output_type": "execute_result",
          "data": {
            "text/plain": [
              "138-element Vector{Int64}:\n",
              "  1\n",
              "  1\n",
              "  1\n",
              " -1\n",
              "  1\n",
              " -1\n",
              " -1\n",
              "  1\n",
              "  1\n",
              " -1\n",
              "  1\n",
              " -1\n",
              " -1\n",
              "  ⋮\n",
              "  1\n",
              "  1\n",
              " -1\n",
              "  1\n",
              " -1\n",
              " -1\n",
              "  1\n",
              "  1\n",
              "  1\n",
              " -1\n",
              "  1\n",
              " -1"
            ]
          },
          "metadata": {},
          "execution_count": 149
        }
      ]
    },
    {
      "cell_type": "markdown",
      "source": [
        "#Library SVM"
      ],
      "metadata": {
        "id": "xfmRBZahVUNq"
      }
    },
    {
      "cell_type": "code",
      "source": [
        "doc(\"LinearSVC\", pkg=\"LIBSVM\")"
      ],
      "metadata": {
        "colab": {
          "base_uri": "https://localhost:8080/",
          "height": 1000
        },
        "id": "-NGdRb1FVZGL",
        "outputId": "24bac5e7-4bcb-4f10-c0f4-b2b32f092784"
      },
      "execution_count": null,
      "outputs": [
        {
          "output_type": "execute_result",
          "data": {
            "text/plain": [
              "\u001b[36m  LinearSVC\u001b[39m\n",
              "\n",
              "  A model type for constructing a linear support vector classifier, based on\n",
              "  LIBSVM.jl (https://github.com/mpastell/LIBSVM.jl), and implementing the MLJ\n",
              "  model interface.\n",
              "\n",
              "  From MLJ, the type can be imported using\n",
              "\n",
              "\u001b[36m  LinearSVC = @load LinearSVC pkg=LIBSVM\u001b[39m\n",
              "\n",
              "  Do \u001b[36mmodel = LinearSVC()\u001b[39m to construct an instance with default\n",
              "  hyper-parameters. Provide keyword arguments to override hyper-parameter\n",
              "  defaults, as in \u001b[36mLinearSVC(solver=...)\u001b[39m.\n",
              "\n",
              "  Reference for algorithm and core C-library: Rong-En Fan et al (2008):\n",
              "  \"LIBLINEAR: A Library for Large Linear Classification.\" \u001b[4mJournal of Machine\n",
              "  Learning Research\u001b[24m 9 1871-1874. Available at\n",
              "  https://www.csie.ntu.edu.tw/~cjlin/papers/liblinear.pdf\n",
              "  (https://www.csie.ntu.edu.tw/~cjlin/papers/liblinear.pdf).\n",
              "\n",
              "  This model type is similar to \u001b[36mSVC\u001b[39m from the same package with the setting\n",
              "  \u001b[36mkernel=LIBSVM.Kernel.KERNEL.Linear\u001b[39m, but is optimized for the linear case.\n",
              "\n",
              "\u001b[1m  Training data\u001b[22m\n",
              "\u001b[1m  ≡≡≡≡≡≡≡≡≡≡≡≡≡≡≡\u001b[22m\n",
              "\n",
              "  In MLJ or MLJBase, bind an instance \u001b[36mmodel\u001b[39m to data with one of:\n",
              "\n",
              "\u001b[36m  mach = machine(model, X, y)\u001b[39m\n",
              "\u001b[36m  mach = machine(model, X, y, w)\u001b[39m\n",
              "\n",
              "  where\n",
              "\n",
              "    •  \u001b[36mX\u001b[39m: any table of input features (eg, a \u001b[36mDataFrame\u001b[39m) whose columns\n",
              "       each have \u001b[36mContinuous\u001b[39m element scitype; check column scitypes with\n",
              "       \u001b[36mschema(X)\u001b[39m\n",
              "\n",
              "    •  \u001b[36my\u001b[39m: is the target, which can be any \u001b[36mAbstractVector\u001b[39m whose element\n",
              "       scitype is \u001b[36m<:OrderedFactor\u001b[39m or \u001b[36m<:Multiclass\u001b[39m; check the scitype with\n",
              "       \u001b[36mscitype(y)\u001b[39m\n",
              "\n",
              "    •  \u001b[36mw\u001b[39m: a dictionary of class weights, keyed on \u001b[36mlevels(y)\u001b[39m.\n",
              "\n",
              "  Train the machine using \u001b[36mfit!(mach, rows=...)\u001b[39m.\n",
              "\n",
              "\u001b[1m  Hyper-parameters\u001b[22m\n",
              "\u001b[1m  ≡≡≡≡≡≡≡≡≡≡≡≡≡≡≡≡≡≡\u001b[22m\n",
              "\n",
              "    •  \u001b[36msolver=LIBSVM.Linearsolver.L2R_L2LOSS_SVC_DUAL\u001b[39m: linear solver,\n",
              "       which must be one of the following from the LIBSVM.jl package:\n",
              "       • \u001b[36mLIBSVM.Linearsolver.L2R_LR\u001b[39m: L2-regularized logistic\n",
              "       regression (primal))\n",
              "       • \u001b[36mLIBSVM.Linearsolver.L2R_L2LOSS_SVC_DUAL\u001b[39m: L2-regularized\n",
              "       L2-loss support vector classification (dual)\n",
              "       • \u001b[36mLIBSVM.Linearsolver.L2R_L2LOSS_SVC\u001b[39m: L2-regularized\n",
              "       L2-loss support vector classification (primal)\n",
              "       • \u001b[36mLIBSVM.Linearsolver.L2R_L1LOSS_SVC_DUAL\u001b[39m: L2-regularized\n",
              "       L1-loss support vector classification (dual)\n",
              "       • \u001b[36mLIBSVM.Linearsolver.MCSVM_CS\u001b[39m: support vector\n",
              "       classification by Crammer and Singer)\n",
              "       \u001b[36mLIBSVM.Linearsolver.L1R_L2LOSS_SVC\u001b[39m: L1-regularized\n",
              "       L2-loss support vector classification)\n",
              "       • \u001b[36mLIBSVM.Linearsolver.L1R_LR\u001b[39m: L1-regularized logistic\n",
              "       regression\n",
              "       • \u001b[36mLIBSVM.Linearsolver.L2R_LR_DUAL\u001b[39m: L2-regularized logistic\n",
              "       regression (dual)\n",
              "\n",
              "    •  \u001b[36mtolerance::Float64=Inf\u001b[39m: tolerance for the stopping criterion;\n",
              "\n",
              "    •  \u001b[36mcost=1.0\u001b[39m (range (0, \u001b[36mInf\u001b[39m)): the parameter denoted \u001b[35mC\u001b[39m in the cited\n",
              "       reference; for greater regularization, decrease \u001b[36mcost\u001b[39m\n",
              "\n",
              "    •  \u001b[36mbias= -1.0\u001b[39m: if \u001b[36mbias >= 0\u001b[39m, instance \u001b[36mx\u001b[39m becomes \u001b[36m[x; bias]\u001b[39m; if \u001b[36mbias <\n",
              "       0\u001b[39m, no bias term added (default -1)\n",
              "\n",
              "\u001b[1m  Operations\u001b[22m\n",
              "\u001b[1m  ≡≡≡≡≡≡≡≡≡≡≡≡\u001b[22m\n",
              "\n",
              "    •  \u001b[36mpredict(mach, Xnew)\u001b[39m: return predictions of the target given\n",
              "       features \u001b[36mXnew\u001b[39m having the same scitype as \u001b[36mX\u001b[39m above.\n",
              "\n",
              "\u001b[1m  Fitted parameters\u001b[22m\n",
              "\u001b[1m  ≡≡≡≡≡≡≡≡≡≡≡≡≡≡≡≡≡≡≡\u001b[22m\n",
              "\n",
              "  The fields of \u001b[36mfitted_params(mach)\u001b[39m are:\n",
              "\n",
              "    •  \u001b[36mlibsvm_model\u001b[39m: the trained model object created by the LIBSVM.jl\n",
              "       package\n",
              "\n",
              "    •  \u001b[36mencoding\u001b[39m: class encoding used internally by \u001b[36mlibsvm_model\u001b[39m - a\n",
              "       dictionary of class labels keyed on the internal integer\n",
              "       representation\n",
              "\n",
              "\u001b[1m  Examples\u001b[22m\n",
              "\u001b[1m  ≡≡≡≡≡≡≡≡≡≡\u001b[22m\n",
              "\n",
              "\u001b[36m  using MLJ\u001b[39m\n",
              "\u001b[36m  import LIBSVM\u001b[39m\n",
              "\u001b[36m  \u001b[39m\n",
              "\u001b[36m  LinearSVC = @load LinearSVC pkg=LIBSVM               # model type\u001b[39m\n",
              "\u001b[36m  model = LinearSVC(solver=LIBSVM.Linearsolver.L2R_LR) # instance\u001b[39m\n",
              "\u001b[36m  \u001b[39m\n",
              "\u001b[36m  X, y = @load_iris # table, vector\u001b[39m\n",
              "\u001b[36m  mach = machine(model, X, y) |> fit!\u001b[39m\n",
              "\u001b[36m  \u001b[39m\n",
              "\u001b[36m  Xnew = (sepal_length = [6.4, 7.2, 7.4],\u001b[39m\n",
              "\u001b[36m          sepal_width = [2.8, 3.0, 2.8],\u001b[39m\n",
              "\u001b[36m          petal_length = [5.6, 5.8, 6.1],\u001b[39m\n",
              "\u001b[36m          petal_width = [2.1, 1.6, 1.9],)\u001b[39m\n",
              "\u001b[36m  \u001b[39m\n",
              "\u001b[36m  julia> yhat = predict(mach, Xnew)\u001b[39m\n",
              "\u001b[36m  3-element CategoricalArrays.CategoricalArray{String,1,UInt32}:\u001b[39m\n",
              "\u001b[36m   \"virginica\"\u001b[39m\n",
              "\u001b[36m   \"versicolor\"\u001b[39m\n",
              "\u001b[36m   \"virginica\"\u001b[39m\n",
              "\n",
              "\u001b[1m  Incorporating class weights\u001b[22m\n",
              "\u001b[1m  =============================\u001b[22m\n",
              "\n",
              "\u001b[36m  weights = Dict(\"virginica\" => 1, \"versicolor\" => 20, \"setosa\" => 1)\u001b[39m\n",
              "\u001b[36m  mach = machine(model, X, y, weights) |> fit!\u001b[39m\n",
              "\u001b[36m  \u001b[39m\n",
              "\u001b[36m  julia> yhat = predict(mach, Xnew)\u001b[39m\n",
              "\u001b[36m  3-element CategoricalArrays.CategoricalArray{String,1,UInt32}:\u001b[39m\n",
              "\u001b[36m   \"versicolor\"\u001b[39m\n",
              "\u001b[36m   \"versicolor\"\u001b[39m\n",
              "\u001b[36m   \"versicolor\"\u001b[39m\n",
              "\n",
              "  See also the \u001b[36mSVC\u001b[39m and \u001b[36mNuSVC\u001b[39m classifiers, and LIVSVM.jl\n",
              "  (https://github.com/JuliaML/LIBSVM.jl) and the original C implementation\n",
              "  documentation (https://github.com/cjlin1/liblinear/blob/master/README)."
            ],
            "text/markdown": "```\nLinearSVC\n```\n\nA model type for constructing a linear support vector classifier, based on [LIBSVM.jl](https://github.com/mpastell/LIBSVM.jl), and implementing the MLJ model interface.\n\nFrom MLJ, the type can be imported using\n\n```\nLinearSVC = @load LinearSVC pkg=LIBSVM\n```\n\nDo `model = LinearSVC()` to construct an instance with default hyper-parameters. Provide keyword arguments to override hyper-parameter defaults, as in `LinearSVC(solver=...)`.\n\nReference for algorithm and core C-library: Rong-En Fan et al (2008): \"LIBLINEAR: A Library for Large Linear Classification.\" *Journal of Machine Learning Research* 9 1871-1874. Available at [https://www.csie.ntu.edu.tw/~cjlin/papers/liblinear.pdf](https://www.csie.ntu.edu.tw/~cjlin/papers/liblinear.pdf). \n\nThis model type is similar to `SVC` from the same package with the setting `kernel=LIBSVM.Kernel.KERNEL.Linear`, but is optimized for the linear case.\n\n# Training data\n\nIn MLJ or MLJBase, bind an instance `model` to data with one of:\n\n```\nmach = machine(model, X, y)\nmach = machine(model, X, y, w)\n```\n\nwhere\n\n  * `X`: any table of input features (eg, a `DataFrame`) whose columns each have `Continuous` element scitype; check column scitypes with `schema(X)`\n  * `y`: is the target, which can be any `AbstractVector` whose element scitype is `<:OrderedFactor` or `<:Multiclass`; check the scitype with `scitype(y)`\n  * `w`: a dictionary of class weights, keyed on `levels(y)`.\n\nTrain the machine using `fit!(mach, rows=...)`.\n\n# Hyper-parameters\n\n  * `solver=LIBSVM.Linearsolver.L2R_L2LOSS_SVC_DUAL`: linear solver, which must be one of the following from the LIBSVM.jl package:\n\n      * `LIBSVM.Linearsolver.L2R_LR`: L2-regularized logistic regression (primal))\n      * `LIBSVM.Linearsolver.L2R_L2LOSS_SVC_DUAL`: L2-regularized L2-loss support vector classification (dual)\n      * `LIBSVM.Linearsolver.L2R_L2LOSS_SVC`: L2-regularized L2-loss support vector classification (primal)\n      * `LIBSVM.Linearsolver.L2R_L1LOSS_SVC_DUAL`: L2-regularized L1-loss support vector classification (dual)\n      * `LIBSVM.Linearsolver.MCSVM_CS`: support vector classification by Crammer and Singer) `LIBSVM.Linearsolver.L1R_L2LOSS_SVC`: L1-regularized L2-loss support vector classification)\n      * `LIBSVM.Linearsolver.L1R_LR`:  L1-regularized logistic regression\n      * `LIBSVM.Linearsolver.L2R_LR_DUAL`: L2-regularized logistic regression (dual)\n  * `tolerance::Float64=Inf`: tolerance for the stopping criterion;\n  * `cost=1.0` (range (0, `Inf`)): the parameter denoted $C$ in the cited reference; for greater regularization, decrease `cost`\n  * `bias= -1.0`: if `bias >= 0`, instance `x` becomes `[x; bias]`; if `bias < 0`, no bias term added (default -1)\n\n# Operations\n\n  * `predict(mach, Xnew)`: return predictions of the target given features `Xnew` having the same scitype as `X` above.\n\n# Fitted parameters\n\nThe fields of `fitted_params(mach)` are:\n\n  * `libsvm_model`: the trained model object created by the LIBSVM.jl package\n  * `encoding`: class encoding used internally by `libsvm_model` - a dictionary of class labels keyed on the internal integer representation\n\n# Examples\n\n```\nusing MLJ\nimport LIBSVM\n\nLinearSVC = @load LinearSVC pkg=LIBSVM               # model type\nmodel = LinearSVC(solver=LIBSVM.Linearsolver.L2R_LR) # instance\n\nX, y = @load_iris # table, vector\nmach = machine(model, X, y) |> fit!\n\nXnew = (sepal_length = [6.4, 7.2, 7.4],\n        sepal_width = [2.8, 3.0, 2.8],\n        petal_length = [5.6, 5.8, 6.1],\n        petal_width = [2.1, 1.6, 1.9],)\n\njulia> yhat = predict(mach, Xnew)\n3-element CategoricalArrays.CategoricalArray{String,1,UInt32}:\n \"virginica\"\n \"versicolor\"\n \"virginica\"\n```\n\n## Incorporating class weights\n\n```julia\nweights = Dict(\"virginica\" => 1, \"versicolor\" => 20, \"setosa\" => 1)\nmach = machine(model, X, y, weights) |> fit!\n\njulia> yhat = predict(mach, Xnew)\n3-element CategoricalArrays.CategoricalArray{String,1,UInt32}:\n \"versicolor\"\n \"versicolor\"\n \"versicolor\"\n```\n\nSee also the [`SVC`](@ref) and [`NuSVC`](@ref) classifiers, and [LIVSVM.jl](https://github.com/JuliaML/LIBSVM.jl) and the original C implementation [documentation](https://github.com/cjlin1/liblinear/blob/master/README).\n",
            "text/latex": "\\begin{verbatim}\nLinearSVC\n\\end{verbatim}\nA model type for constructing a linear support vector classifier, based on \\href{https://github.com/mpastell/LIBSVM.jl}{LIBSVM.jl}, and implementing the MLJ model interface.\n\nFrom MLJ, the type can be imported using\n\n\\begin{verbatim}\nLinearSVC = @load LinearSVC pkg=LIBSVM\n\\end{verbatim}\nDo \\texttt{model = LinearSVC()} to construct an instance with default hyper-parameters. Provide keyword arguments to override hyper-parameter defaults, as in \\texttt{LinearSVC(solver=...)}.\n\nReference for algorithm and core C-library: Rong-En Fan et al (2008): \"LIBLINEAR: A Library for Large Linear Classification.\" \\emph{Journal of Machine Learning Research} 9 1871-1874. Available at \\href{https://www.csie.ntu.edu.tw/~cjlin/papers/liblinear.pdf}{https://www.csie.ntu.edu.tw/{\\textasciitilde}cjlin/papers/liblinear.pdf}. \n\nThis model type is similar to \\texttt{SVC} from the same package with the setting \\texttt{kernel=LIBSVM.Kernel.KERNEL.Linear}, but is optimized for the linear case.\n\n\\section{Training data}\nIn MLJ or MLJBase, bind an instance \\texttt{model} to data with one of:\n\n\\begin{verbatim}\nmach = machine(model, X, y)\nmach = machine(model, X, y, w)\n\\end{verbatim}\nwhere\n\n\\begin{itemize}\n\\item \\texttt{X}: any table of input features (eg, a \\texttt{DataFrame}) whose columns each have \\texttt{Continuous} element scitype; check column scitypes with \\texttt{schema(X)}\n\n\n\\item \\texttt{y}: is the target, which can be any \\texttt{AbstractVector} whose element scitype is \\texttt{<:OrderedFactor} or \\texttt{<:Multiclass}; check the scitype with \\texttt{scitype(y)}\n\n\n\\item \\texttt{w}: a dictionary of class weights, keyed on \\texttt{levels(y)}.\n\n\\end{itemize}\nTrain the machine using \\texttt{fit!(mach, rows=...)}.\n\n\\section{Hyper-parameters}\n\\begin{itemize}\n\\item \\texttt{solver=LIBSVM.Linearsolver.L2R\\_L2LOSS\\_SVC\\_DUAL}: linear solver, which must be one of the following from the LIBSVM.jl package:\n\n\\begin{itemize}\n\\item \\texttt{LIBSVM.Linearsolver.L2R\\_LR}: L2-regularized logistic regression (primal))\n\n\n\\item \\texttt{LIBSVM.Linearsolver.L2R\\_L2LOSS\\_SVC\\_DUAL}: L2-regularized L2-loss support vector classification (dual)\n\n\n\\item \\texttt{LIBSVM.Linearsolver.L2R\\_L2LOSS\\_SVC}: L2-regularized L2-loss support vector classification (primal)\n\n\n\\item \\texttt{LIBSVM.Linearsolver.L2R\\_L1LOSS\\_SVC\\_DUAL}: L2-regularized L1-loss support vector classification (dual)\n\n\n\\item \\texttt{LIBSVM.Linearsolver.MCSVM\\_CS}: support vector classification by Crammer and Singer) \\texttt{LIBSVM.Linearsolver.L1R\\_L2LOSS\\_SVC}: L1-regularized L2-loss support vector classification)\n\n\n\\item \\texttt{LIBSVM.Linearsolver.L1R\\_LR}:  L1-regularized logistic regression\n\n\n\\item \\texttt{LIBSVM.Linearsolver.L2R\\_LR\\_DUAL}: L2-regularized logistic regression (dual)\n\n\\end{itemize}\n\n\\item \\texttt{tolerance::Float64=Inf}: tolerance for the stopping criterion;\n\n\n\\item \\texttt{cost=1.0} (range (0, \\texttt{Inf})): the parameter denoted $C$ in the cited reference; for greater regularization, decrease \\texttt{cost}\n\n\n\\item \\texttt{bias= -1.0}: if \\texttt{bias >= 0}, instance \\texttt{x} becomes \\texttt{[x; bias]}; if \\texttt{bias < 0}, no bias term added (default -1)\n\n\\end{itemize}\n\\section{Operations}\n\\begin{itemize}\n\\item \\texttt{predict(mach, Xnew)}: return predictions of the target given features \\texttt{Xnew} having the same scitype as \\texttt{X} above.\n\n\\end{itemize}\n\\section{Fitted parameters}\nThe fields of \\texttt{fitted\\_params(mach)} are:\n\n\\begin{itemize}\n\\item \\texttt{libsvm\\_model}: the trained model object created by the LIBSVM.jl package\n\n\n\\item \\texttt{encoding}: class encoding used internally by \\texttt{libsvm\\_model} - a dictionary of class labels keyed on the internal integer representation\n\n\\end{itemize}\n\\section{Examples}\n\\begin{verbatim}\nusing MLJ\nimport LIBSVM\n\nLinearSVC = @load LinearSVC pkg=LIBSVM               # model type\nmodel = LinearSVC(solver=LIBSVM.Linearsolver.L2R_LR) # instance\n\nX, y = @load_iris # table, vector\nmach = machine(model, X, y) |> fit!\n\nXnew = (sepal_length = [6.4, 7.2, 7.4],\n        sepal_width = [2.8, 3.0, 2.8],\n        petal_length = [5.6, 5.8, 6.1],\n        petal_width = [2.1, 1.6, 1.9],)\n\njulia> yhat = predict(mach, Xnew)\n3-element CategoricalArrays.CategoricalArray{String,1,UInt32}:\n \"virginica\"\n \"versicolor\"\n \"virginica\"\n\\end{verbatim}\n\\subsection{Incorporating class weights}\n\\begin{verbatim}\nweights = Dict(\"virginica\" => 1, \"versicolor\" => 20, \"setosa\" => 1)\nmach = machine(model, X, y, weights) |> fit!\n\njulia> yhat = predict(mach, Xnew)\n3-element CategoricalArrays.CategoricalArray{String,1,UInt32}:\n \"versicolor\"\n \"versicolor\"\n \"versicolor\"\n\\end{verbatim}\nSee also the \\href{@ref}{\\texttt{SVC}} and \\href{@ref}{\\texttt{NuSVC}} classifiers, and \\href{https://github.com/JuliaML/LIBSVM.jl}{LIVSVM.jl} and the original C implementation \\href{https://github.com/cjlin1/liblinear/blob/master/README}{documentation}.\n\n"
          },
          "metadata": {},
          "execution_count": 9
        }
      ]
    },
    {
      "cell_type": "code",
      "source": [
        "LinearSVC = @load LinearSVC pkg=LIBSVM\n",
        "\n",
        "model = LinearSVC(solver=LIBSVM.Linearsolver.L2R_LR)\n",
        "\n",
        "SMSVM = machine(model, DS2trainX, DS2trainY) |> fit!"
      ],
      "metadata": {
        "colab": {
          "base_uri": "https://localhost:8080/"
        },
        "id": "UoY6YA8GWVU8",
        "outputId": "4bed71fa-3acf-41a8-e4c3-4e3cd0dd794b"
      },
      "execution_count": null,
      "outputs": [
        {
          "output_type": "stream",
          "name": "stdout",
          "text": [
            "import MLJLIBSVMInterface ✔\n"
          ]
        },
        {
          "output_type": "stream",
          "name": "stderr",
          "text": [
            "\u001b[36m\u001b[1m[ \u001b[22m\u001b[39m\u001b[36m\u001b[1mInfo: \u001b[22m\u001b[39mFor silent loading, specify `verbosity=0`. \n",
            "\u001b[36m\u001b[1m[ \u001b[22m\u001b[39m\u001b[36m\u001b[1mInfo: \u001b[22m\u001b[39mTraining machine(LinearSVC(solver = L2R_LR, …), …).\n"
          ]
        },
        {
          "output_type": "execute_result",
          "data": {
            "text/plain": [
              "trained Machine; caches model-specific representations of data\n",
              "  model: LinearSVC(solver = L2R_LR, …)\n",
              "  args: \n",
              "    1:\tSource @868 ⏎ Table{AbstractVector{Continuous}}\n",
              "    2:\tSource @753 ⏎ AbstractVector{OrderedFactor{2}}\n"
            ]
          },
          "metadata": {},
          "execution_count": 114
        }
      ]
    },
    {
      "cell_type": "code",
      "source": [
        "Ypred = predict(SMSVM, DS2test1X)\n",
        "\n",
        "MLJ.confusion_matrix(Ypred, DS2test1Y)"
      ],
      "metadata": {
        "colab": {
          "base_uri": "https://localhost:8080/"
        },
        "id": "Tsml5Pk8jdnq",
        "outputId": "edd00898-dd26-4b9c-9d0f-5e2480910ea6"
      },
      "execution_count": null,
      "outputs": [
        {
          "output_type": "execute_result",
          "data": {
            "text/plain": [
              "              ┌───────────────────────────┐\n",
              "              │       Ground Truth        │\n",
              "┌─────────────┼─────────────┬─────────────┤\n",
              "│  Predicted  │      1      │     -1      │\n",
              "├─────────────┼─────────────┼─────────────┤\n",
              "│      1      │     969     │     55      │\n",
              "├─────────────┼─────────────┼─────────────┤\n",
              "│     -1      │      3      │    1638     │\n",
              "└─────────────┴─────────────┴─────────────┘\n"
            ]
          },
          "metadata": {},
          "execution_count": 115
        }
      ]
    },
    {
      "cell_type": "markdown",
      "source": [
        "#Decision Tree"
      ],
      "metadata": {
        "id": "YKFjb6U4ziWS"
      }
    },
    {
      "cell_type": "markdown",
      "source": [
        "A first approach to evaluate the separability of the data is to look at the distribution of the points as shown in their histograms."
      ],
      "metadata": {
        "id": "MFODxkcbaQCK"
      }
    },
    {
      "cell_type": "code",
      "source": [
        "histogram(DS2train[DS2train.Occupancy .== 1, \"Temperature\"], alpha=0.5, normalize=:probability)\n",
        "histogram!(DS2train[DS2train.Occupancy .== -1, \"Temperature\"], alpha=0.5, normalize=:probability)"
      ],
      "metadata": {
        "colab": {
          "base_uri": "https://localhost:8080/",
          "height": 417
        },
        "id": "X_CSwAFsRs4G",
        "outputId": "dbf5a3f6-0cd1-4acd-b4fa-613ab98c6a02"
      },
      "execution_count": null,
      "outputs": [
        {
          "output_type": "execute_result",
          "data": {
            "image/png": "[encoded data removed]"
          },
          "metadata": {},
          "execution_count": 57
        }
      ]
    },
    {
      "cell_type": "code",
      "source": [
        "histogram(DS2train[DS2train.Occupancy .== 1, \"Humidity\"], alpha=0.5, normalize=:probability)\n",
        "histogram!(DS2train[DS2train.Occupancy .== -1, \"Humidity\"], alpha=0.5, normalize=:probability)"
      ],
      "metadata": {
        "colab": {
          "base_uri": "https://localhost:8080/",
          "height": 417
        },
        "id": "EjTS_KIGaH94",
        "outputId": "e634da8a-403c-4839-cff8-b5648fc546a4"
      },
      "execution_count": null,
      "outputs": [
        {
          "output_type": "execute_result",
          "data": {
            "image/png": "[encoded data removed]"
          },
          "metadata": {},
          "execution_count": 58
        }
      ]
    },
    {
      "cell_type": "markdown",
      "source": [
        "For instance, the feature \"Temperature\" seems to separate the classes better that the feature \"Humidity\""
      ],
      "metadata": {
        "id": "49EiOxR5ay8Z"
      }
    },
    {
      "cell_type": "markdown",
      "source": [
        "Based on https://towardsdatascience.com/part-ii-using-a-decision-tree-ddffa4004e47"
      ],
      "metadata": {
        "id": "oRxMZGeN6V2b"
      }
    },
    {
      "cell_type": "code",
      "source": [
        "MyDecisionTree = @load DecisionTreeClassifier pkg = \"DecisionTree\"\n",
        "dc = MyDecisionTree()"
      ],
      "metadata": {
        "colab": {
          "base_uri": "https://localhost:8080/"
        },
        "id": "wPnYzD0Yz8Sp",
        "outputId": "06e2c158-e4ef-4cbb-ba7e-ac6348b0d5fe"
      },
      "execution_count": null,
      "outputs": [
        {
          "output_type": "stream",
          "name": "stdout",
          "text": [
            "import MLJDecisionTreeInterface ✔\n"
          ]
        },
        {
          "output_type": "stream",
          "name": "stderr",
          "text": [
            "\u001b[36m\u001b[1m[ \u001b[22m\u001b[39m\u001b[36m\u001b[1mInfo: \u001b[22m\u001b[39mFor silent loading, specify `verbosity=0`. \n"
          ]
        },
        {
          "output_type": "execute_result",
          "data": {
            "text/plain": [
              "DecisionTreeClassifier(\n",
              "  max_depth = -1, \n",
              "  min_samples_leaf = 1, \n",
              "  min_samples_split = 2, \n",
              "  min_purity_increase = 0.0, \n",
              "  n_subfeatures = 0, \n",
              "  post_prune = false, \n",
              "  merge_purity_threshold = 1.0, \n",
              "  display_depth = 5, \n",
              "  feature_importance = :impurity, \n",
              "  rng = Random._GLOBAL_RNG())"
            ]
          },
          "metadata": {},
          "execution_count": 59
        }
      ]
    },
    {
      "cell_type": "code",
      "source": [
        "DS1Y, DS1X = unpack(DS1, ==(:Column5), rng = 123) #Separates X and Y and shuffles the rows\n",
        "DS1Y = CategoricalVector(DS1Y, ordered=true, levels=[1,-1])\n",
        "(Xtrain, Xtest), (Ytrain, Ytest) =  partition((DS1X, DS1Y), 0.7, multi = true, rng = 123);"
      ],
      "metadata": {
        "id": "RAsF_zwi4O57"
      },
      "execution_count": null,
      "outputs": []
    },
    {
      "cell_type": "code",
      "source": [
        "dc_mach = machine(dc, Xtrain, Ytrain)\n",
        "fit!(dc_mach)"
      ],
      "metadata": {
        "colab": {
          "base_uri": "https://localhost:8080/"
        },
        "id": "pgbQOvye5t1R",
        "outputId": "88daf59c-27af-49d4-9ecd-db61e28a852c"
      },
      "execution_count": null,
      "outputs": [
        {
          "output_type": "stream",
          "name": "stderr",
          "text": [
            "\u001b[36m\u001b[1m[ \u001b[22m\u001b[39m\u001b[36m\u001b[1mInfo: \u001b[22m\u001b[39mTraining machine(DecisionTreeClassifier(max_depth = -1, …), …).\n"
          ]
        },
        {
          "output_type": "execute_result",
          "data": {
            "text/plain": [
              "trained Machine; caches model-specific representations of data\n",
              "  model: DecisionTreeClassifier(max_depth = -1, …)\n",
              "  args: \n",
              "    1:\tSource @599 ⏎ Table{AbstractVector{Continuous}}\n",
              "    2:\tSource @042 ⏎ AbstractVector{OrderedFactor{2}}\n"
            ]
          },
          "metadata": {},
          "execution_count": 76
        }
      ]
    },
    {
      "cell_type": "code",
      "source": [
        "Ypred = predict_mode(dc_mach, Xtest)\n",
        "MLJ.confusion_matrix(Ypred, Ytest)"
      ],
      "metadata": {
        "colab": {
          "base_uri": "https://localhost:8080/"
        },
        "id": "sXFzZsgVblYJ",
        "outputId": "b8a8990c-9109-478a-b7dc-d72b1f49d5c4"
      },
      "execution_count": null,
      "outputs": [
        {
          "output_type": "execute_result",
          "data": {
            "text/plain": [
              "              ┌───────────────────────────┐\n",
              "              │       Ground Truth        │\n",
              "┌─────────────┼─────────────┬─────────────┤\n",
              "│  Predicted  │      1      │     -1      │\n",
              "├─────────────┼─────────────┼─────────────┤\n",
              "│      1      │     175     │      5      │\n",
              "├─────────────┼─────────────┼─────────────┤\n",
              "│     -1      │      4      │     228     │\n",
              "└─────────────┴─────────────┴─────────────┘\n"
            ]
          },
          "metadata": {},
          "execution_count": 83
        }
      ]
    },
    {
      "cell_type": "markdown",
      "source": [
        "#Linear separability"
      ],
      "metadata": {
        "id": "sWvdVXcui_j0"
      }
    },
    {
      "cell_type": "code",
      "source": [
        "\n",
        "Perceptron = @load NeuralNetworkClassifier pkg = MLJLinearModels"
      ],
      "metadata": {
        "colab": {
          "base_uri": "https://localhost:8080/",
          "height": 264
        },
        "id": "qdsoTlaFjD0K",
        "outputId": "c0edd71a-0570-4f95-ed2f-45efb8f51c21"
      },
      "execution_count": null,
      "outputs": [
        {
          "output_type": "stream",
          "name": "stderr",
          "text": [
            "\u001b[36m\u001b[1m[ \u001b[22m\u001b[39m\u001b[36m\u001b[1mInfo: \u001b[22m\u001b[39mFor silent loading, specify `verbosity=0`. \n"
          ]
        },
        {
          "output_type": "error",
          "ename": "LoadError",
          "evalue": "ignored",
          "traceback": [
            "ArgumentError: The package \"MLJLinearModels\" does not appear to provide the model \"NeuralNetworkClassifier\". \nUse models() to list all models. ",
            "",
            "Stacktrace:",
            " [1] handle(name::String; pkg::String, interactive::Bool)",
            "   @ MLJModels /content/drive/MyDrive/Julia/packages/MLJModels/OJDDo/src/model_search.jl:116",
            " [2] info(name::String; kwargs::Base.Pairs{Symbol, Any, Tuple{Symbol, Symbol}, NamedTuple{(:pkg, :interactive), Tuple{String, Bool}}})",
            "   @ MLJModels /content/drive/MyDrive/Julia/packages/MLJModels/OJDDo/src/model_search.jl:154",
            " [3] top-level scope",
            "   @ /content/drive/MyDrive/Julia/packages/MLJModels/OJDDo/src/loading.jl:160"
          ]
        }
      ]
    },
    {
      "cell_type": "code",
      "source": [
        "clf = NeuralNetworkClassifier()"
      ],
      "metadata": {
        "colab": {
          "base_uri": "https://localhost:8080/",
          "height": 154
        },
        "id": "CF46pv0Wl-90",
        "outputId": "d5141f4c-f4b5-4344-baf5-8e46e77a1325"
      },
      "execution_count": null,
      "outputs": [
        {
          "output_type": "error",
          "ename": "LoadError",
          "evalue": "ignored",
          "traceback": [
            "UndefVarError: NNlib not defined",
            "",
            "Stacktrace:",
            " [1] top-level scope",
            "   @ In[89]:1"
          ]
        }
      ]
    }
  ]
}