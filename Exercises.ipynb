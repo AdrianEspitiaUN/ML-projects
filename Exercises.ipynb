{
  "nbformat": 4,
  "nbformat_minor": 0,
  "metadata": {
    "colab": {
      "provenance": [],
      "authorship_tag": "ABX9TyM9Y/DbeWPb9uyg//lxCRid",
      "include_colab_link": true
    },
    "kernelspec": {
      "name": "python3",
      "display_name": "Python 3"
    },
    "language_info": {
      "name": "python"
    }
  },
  "cells": [
    {
      "cell_type": "markdown",
      "metadata": {
        "id": "view-in-github",
        "colab_type": "text"
      },
      "source": [
        "<a href=\"https://colab.research.google.com/github/AdrianEspitiaUN/ML-projects/blob/main/Exercises.ipynb\" target=\"_parent\"><img src=\"https://colab.research.google.com/assets/colab-badge.svg\" alt=\"Open In Colab\"/></a>"
      ]
    },
    {
      "cell_type": "markdown",
      "source": [
        "#### Exercise 1.2\n",
        "\n",
        "Suppose that we use a perceptron to detect spam messages. Let's say that each email message is represented by the frequency of occurrence of keywords, and the output is $+1$ if the message is considered spam.\n",
        "\n",
        "- Can you think of some keywords that will end up with a large positive weight in the perceptron?\n",
        "\n",
        "We can think of some words that occur repeatedly in spam mails, like free, winner, offer, prize, etc.\n",
        "\n",
        "- How about keywords that will get a negative weight?\n",
        "\n",
        "Some examples are: deadline, meeting, date, etc.\n",
        "\n",
        "- What parameter in the perceptron directly affects how many border-line messages end up being classified as spam?\n",
        "\n",
        "Since the bias moves the hyperplane keeping its orientation the same, the points near the hyperplane are greatly affected by this value.\n",
        "\n",
        "#### Exercise 1.3\n",
        "The weight update rule in (1.3) has the nice interpretation that it moves in the direction of classifying $x(t)$ correctly.\n",
        "\n",
        "- Show that $y(t)\\vec{w}^{T}(t)\\vec{x}(t)<0$.\n",
        "\n",
        "Since $\\vec{x}(t)$ is classified in the wrong class, the sign of $\\vec{w}^{T}(t)\\vec{x}(t)$ is the opposite to the sign of $y(t)$, therefore, $y(t)\\vec{w}^{T}(t)\\vec{x}(t)<0$ in every case.\n",
        "\n",
        "- Show that $y(t)\\vec{w}^{T}(t+1)\\vec{x}(t)>y(t)\\vec{w}^{T}(t)\\vec{x}(t)$.\n",
        "\n",
        "Since $\\vec{w}(t+1)=\\vec{w}(t)+y(t)\\vec{x}(t)$, we have:\n",
        "\n",
        "$y(t)\\vec{w}^{T}(t+1)\\vec{x}(t) = y(t)(\\vec{w}(t)+y(t)\\vec{x}(t))\\vec{x}(t) = y(t)\\vec{w}^{T}(t)\\vec{x}(t)+y^2(t)||\\vec{x}(t)||^2>y(t)\\vec{w}^{T}(t)\\vec{x}(t)$\n",
        "\n",
        "- As far as classifying $x(t)$ is concerned, argue that the move from $\\vec{w}(t)$ to $\\vec{w}(t+1)$ is a move \"in the right direction\".\n",
        "\n",
        "Since $y(t)\\vec{w}^T\\vec{x}(t)<0$ and $y(t)\\vec{w}(t+1)\\vec{x}(t)$, then the next step $\\vec{w}(t+1)=\\vec{w}(t)+y(t)\\vec{x}(t)$ increases until it surpasses 0, in which case $\\{x(t),y(t)\\}$ won't be wrongly classified.\n"
      ],
      "metadata": {
        "id": "_ZbBi7wB3LAi"
      }
    },
    {
      "cell_type": "markdown",
      "metadata": {
        "id": "9BIBU9mJrkyM"
      },
      "source": [
        "#### Exercise 1.10\n",
        "1. (a) The $\\mu$ for the three coins are all $0.5$ since the coins are fair."
      ]
    },
    {
      "cell_type": "code",
      "execution_count": null,
      "metadata": {
        "id": "iJH_vWAlrkyN",
        "outputId": "d2cd907b-1009-4d02-db90-05eee5784422"
      },
      "outputs": [
        {
          "name": "stdout",
          "output_type": "stream",
          "text": [
            "Frequency of first coin: 0.5\n",
            "Frequency of a random coin: id(83)-freq(0.3)\n",
            "Frequency of the coin with minimum frequency: id(7)-freq(0.0)\n"
          ]
        },
        {
          "data": {
            "text/plain": [
              "(0.5, 0.3, 0.0)"
            ]
          },
          "execution_count": 70,
          "metadata": {},
          "output_type": "execute_result"
        }
      ],
      "source": [
        "# Exercise 1.10 (a) \n",
        "total_coins = 1000\n",
        "total_flips = 10\n",
        "run_once(total_coins, total_flips, True)"
      ]
    },
    {
      "cell_type": "code",
      "execution_count": null,
      "metadata": {
        "id": "42-LXaRBrkyO",
        "outputId": "24b4cdf4-3f69-4b03-f185-b50e999bede5"
      },
      "outputs": [
        {
          "data": {
            "text/plain": [
              "(array([6.23941e+05, 0.00000e+00, 0.00000e+00, 0.00000e+00, 0.00000e+00,\n",
              "        3.76049e+05, 0.00000e+00, 0.00000e+00, 0.00000e+00, 1.00000e+01]),\n",
              " array([0.  , 0.02, 0.04, 0.06, 0.08, 0.1 , 0.12, 0.14, 0.16, 0.18, 0.2 ]),\n",
              " <a list of 10 Patch objects>)"
            ]
          },
          "execution_count": 56,
          "metadata": {},
          "output_type": "execute_result"
        },
        {
          "name": "stderr",
          "output_type": "stream",
          "text": [
            "C:\\ProgramData\\Anaconda3\\lib\\site-packages\\matplotlib\\figure.py:2369: UserWarning: This figure includes Axes that are not compatible with tight_layout, so results might be incorrect.\n",
            "  warnings.warn(\"This figure includes Axes that are not compatible \"\n"
          ]
        },
        {
          "data": {
            "image/png": "[encoded data removed]",
            "text/plain": [
              "<Figure size 432x288 with 3 Axes>"
            ]
          },
          "metadata": {
            "needs_background": "light"
          },
          "output_type": "display_data"
        }
      ],
      "source": [
        "# Exercise 1.10 (b) \n",
        "total_coins = 1000\n",
        "total_flips = 10\n",
        "total_runs = 1000000\n",
        "v1s, vrands, vmins = [],[],[]\n",
        "for run in range(total_runs):\n",
        "    v1,vrand,vmin = run_once(total_coins, total_flips)\n",
        "    v1s.append(v1)\n",
        "    vrands.append(vrand)\n",
        "    vmins.append(vmin)\n",
        "\n",
        "fig, axs = plt.subplots(1,3,sharey=True, tight_layout=True)\n",
        "n_bins = 10\n",
        "axs[0].hist(v1s,bins=n_bins)\n",
        "axs[1].hist(vrands,bins=n_bins)\n",
        "axs[2].hist(vmins,bins=n_bins)"
      ]
    },
    {
      "cell_type": "code",
      "execution_count": null,
      "metadata": {
        "id": "18JNC9ewrkyP",
        "outputId": "ce128896-063d-4dba-8ef5-eb41801581f0"
      },
      "outputs": [
        {
          "data": {
            "text/plain": [
              "<matplotlib.legend.Legend at 0x230e84aef98>"
            ]
          },
          "execution_count": 65,
          "metadata": {},
          "output_type": "execute_result"
        },
        {
          "data": {
            "image/png": "[encoded data removed]",
            "text/plain": [
              "<Figure size 432x288 with 1 Axes>"
            ]
          },
          "metadata": {
            "needs_background": "light"
          },
          "output_type": "display_data"
        }
      ],
      "source": [
        "# Exercise 1.10 (c)\n",
        "eps = np.arange(0.0,0.5,0.05)\n",
        "bounds = hoeffding_bound(eps, total_flips)\n",
        "v1s, vrands, vmins = np.array(v1s), np.array(vrands), np.array(vmins)\n",
        "v1d = np.abs(v1s-0.5)\n",
        "vrandd = np.abs(vrands-0.5)\n",
        "vmind = np.abs(vmins-0.5)\n",
        "\n",
        "p1, prand, pmin = np.zeros(len(eps)),np.zeros(len(eps)),np.zeros(len(eps))\n",
        "\n",
        "for idx in range(eps.shape[0]):\n",
        "    ep = eps[idx]\n",
        "    p1[idx] = np.sum(v1d > ep)/total_runs\n",
        "    prand[idx] = np.sum(vrandd > ep)/total_runs\n",
        "    pmin[idx] = np.sum(vmind > ep)/total_runs\n",
        "\n",
        "#plt.ylim((0,0.01))    \n",
        "plt.plot(eps, bounds, marker='o', markerfacecolor='blue', markersize=8, color='skyblue', label='Hoeffding Bound')\n",
        "plt.plot(eps, p1, marker='', color='r', linewidth=1, label='First Coin')\n",
        "plt.plot(eps, prand, marker='', color='g', linewidth=1, linestyle='dashed', label='Random Coin')\n",
        "plt.plot(eps, pmin, marker='', color='y', linewidth=1, linestyle='dashed', label='Coin with Minimum Freq')\n",
        "plt.legend()"
      ]
    },
    {
      "cell_type": "markdown",
      "source": [
        "#### Exercise 1.10\n",
        "1. (d) The Hoeffding bound applies to the first and random coins. However, the coin with the minimum frequency of heads does not satisfy the Hoeffding bound. This is because the first two coins were selected before conducting the experiment, whereas the last coin requires flipping all the coins first and using the data to determine which coin has the lowest frequency of heads. This violates the condition of the Hoeffding inequality, which states that the hypothesis $h$ must be fixed before drawing samples.\n",
        "\n",
        "1. (e) When we select the coin with the minimum frequency of heads, it is like choosing a bin out of 1000 bins (our hypothesis space). However, we choose the bin after sampling the data, which is similar to the learning algorithm for the final hypothesis. On the other hand, the other two coins were chosen before the sampling, which means they were selected beforehand."
      ],
      "metadata": {
        "id": "aJpjqvg02KyP"
      }
    },
    {
      "cell_type": "markdown",
      "source": [
        "#### Exercise 1.11\n",
        "\n",
        "1. (a) It is not possible for $S$ to generate a hypothesis that consistently performs better than random on points outside of $\\mathcal{D}$. If $f$ has a value of 25 $+1$ on $\\mathcal{D}$ but $-1$ on all other points in $\\mathcal{X}$, $S$ will select the hypothesis $h_1$, which does not match $f$ at all outside of $\\mathcal{D}$. On the other hand, a random function will have an equal distribution of $+1$ and $-1$, resulting in a 50/50 chance of matching $f$, which is better than the hypothesis produced by $S$.\n",
        "\n",
        "1. (b) It is possible for $C$ to generate a better hypothesis than $S$. Refer to the example mentioned above.\n",
        "\n",
        "1. (c) If every point in $\\mathcal{D}$ has a value of 1, then $S$ will choose $h_1$ and $C$ will choose $h_2$. Thus, outside of $\\mathcal{D}$, $h_1$ will have a 90% chance of matching $f$, while $h_2$ will only have a 10% chance. In this case, $S$ will always produce a better hypothesis than $C$.\n",
        "\n",
        "1. (d) As observed in the previous problem, when $p \\lt 0.5$, $C$ will generate a better hypothesis than $S$. Since $C$ always produces $h_2$, which matches $f$ better than $h_1$ when $p \\lt 0.5$.\n",
        "\n",
        "#### Exercise 1.12\n",
        "\n",
        "The best outcome we can expect is situation (c):\n",
        "* The unknown target function $f$ might be extremely complex, making it impossible for us to learn it accurately.\n",
        "* If we are able to learn and generate a hypothesis $g$, the large dataset (4000 data points) increases the probability of $g$ matching $f$ according to the Hoeffding inequality. Additionally, the error on $g$ could be small due to the extensive data set."
      ],
      "metadata": {
        "id": "S1CVwm9F2fa5"
      }
    }
  ]
}